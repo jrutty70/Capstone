{
 "cells": [
  {
   "cell_type": "markdown",
   "metadata": {
    "colab_type": "text",
    "id": "4I6qkbXGX3Yr"
   },
   "source": [
    "Capstone: Retrieving, Processing, and Visualizing Data with Python\n",
    "\n",
    "Final Project\n",
    "\n",
    "John R\n",
    "\n",
    "\n",
    "Grappling with the The Million Song Dataset"
   ]
  },
  {
   "cell_type": "markdown",
   "metadata": {
    "colab_type": "text",
    "id": "_SdtKNlXX3Yx"
   },
   "source": [
    "Heard about on you tube channel Computerphile\n",
    "    mini series on Data Science \n",
    "    \n",
    "    https://www.youtube.com/watch?v=NxYEzbbpk-4\n",
    "    "
   ]
  },
  {
   "cell_type": "markdown",
   "metadata": {
    "colab_type": "text",
    "id": "s2hR-WXOX3Yz"
   },
   "source": [
    "http://millionsongdataset.com/"
   ]
  },
  {
   "cell_type": "markdown",
   "metadata": {
    "colab_type": "text",
    "id": "Pl2tYN26X3Y1"
   },
   "source": [
    "In a new to me file format hdf5"
   ]
  },
  {
   "cell_type": "markdown",
   "metadata": {
    "colab_type": "text",
    "id": "QUA36dHxX3Y3"
   },
   "source": [
    "https://www.hdfgroup.org/downloads/hdfview/#download\n",
    "YEAH there is an easy to find resource on this and a viewer.\n",
    "This will allow me to look and explore the one music file.\n",
    "\n",
    "I have started with the MillionSongSubset  10,000 Files\n",
    "aquirred as a tar.gz\n",
    "which expands into a directory structure based on the track data filenames.\n"
   ]
  },
  {
   "cell_type": "markdown",
   "metadata": {
    "colab_type": "text",
    "id": "UJumQ9KaX3Y4"
   },
   "source": [
    "File:\n",
    "TRBGGBF128F425E4D1.h5\n",
    "\n",
    "Path:\n",
    "\\00\\CapDaT\\millionsongsubset_full\\MillionSongSubset\\data\\B\\G\\G\n",
    "\n",
    "FullFilePath: \n",
    "\\00\\CapDaT\\millionsongsubset_full\\MillionSongSubset\\data\\B\\G\\G\\TRBGGBF128F425E4D1.h5\n",
    "\n",
    "\n",
    "So data will be the actual root for the Data base\n",
    "\n",
    "TR[A-Z][A-Z][A-Z][A-Z][A-Z]........... all the . appear the be HEX [0-9,A-F]\n",
    "\n",
    "the first 3 set of [A-Z] are used to build the directories this is to I assume help \n",
    "\n",
    "with disk access and not overload some max files per directory limit.\n",
    "\n",
    "***  This math needs checking\n",
    "any ways 26!3 = 156 directories  actaully a few less as the top level stopped at B.\n",
    "either way its a lot\n",
    "\n",
    "Data \n",
    "![titl](https://lh5.googleusercontent.com/6CSrxkZfop16V73zVTyUNfIhVUMbvtW1uW7cmJJeeBBURgIe0Rpyh1JnX62X1FcEZ_qCAYtR_-NN_4atvWWhfeQIks60mVcqo9kiC6iNvsrMWI7GVG0=w1280)\n",
    "![alt](https://lh3.googleusercontent.com/kd1Fco_BDIAqIOLW0TOand7noJ4eEmLcnUhCPooMxLmmDKfISCzRfaVEeJMLBrG02YQw7iqX-3WjucJblxV8leBHhVsP5oI43pruYt6d0kFpLrrdnw=w1280)\n",
    "\n"
   ]
  },
  {
   "cell_type": "markdown",
   "metadata": {
    "colab_type": "text",
    "id": "UerHK78GX3Y6"
   },
   "source": [
    "\n",
    "\n",
    "! [title] (Capture.png)  # no spaces to make it work"
   ]
  },
  {
   "cell_type": "markdown",
   "metadata": {
    "colab_type": "text",
    "id": "2FbEkL0fX3Y8"
   },
   "source": [
    "Next Find a Python Library to deal with the files.\n",
    "The files them selves are of a binary format\n",
    "\n",
    "8948 4446 0d0a 1a0a 0000 0000 0008 0800\n",
    "0400 1000 0100 0000 0000 0000 0000 0000\n",
    "ffff ffff ffff ffff 6d5a 0600 0000 0000\n",
    "ffff ffff ffff ffff 0000 0000 0000 0000\n",
    "6000 0000 0000 0000 0100 0000 0000 0000\n",
    "8800 0000 0000 0000 a802 0000 0000 0000\n"
   ]
  },
  {
   "cell_type": "code",
   "execution_count": 0,
   "metadata": {
    "colab": {},
    "colab_type": "code",
    "id": "TqKXGZU-X3Y-"
   },
   "outputs": [],
   "source": [
    "import h5py\n",
    "f = h5py.File('C:/00/CapDaT/millionsongsubset_full/MillionSongSubset/data/A/C/A/TRACABS128E0786B0B.h5', 'r')\n"
   ]
  },
  {
   "cell_type": "markdown",
   "metadata": {
    "colab_type": "text",
    "id": "nGbx2oxEX3ZI"
   },
   "source": [
    "http://www.h5py.org/   info on h5py package for python\n"
   ]
  },
  {
   "cell_type": "code",
   "execution_count": 0,
   "metadata": {
    "colab": {},
    "colab_type": "code",
    "id": "S7-48B1TX3ZK",
    "outputId": "f93a7951-6f70-4245-e351-161e235b7617"
   },
   "outputs": [
    {
     "data": {
      "text/plain": [
       "['analysis', 'metadata', 'musicbrainz']"
      ]
     },
     "execution_count": 5,
     "metadata": {
      "tags": []
     },
     "output_type": "execute_result"
    }
   ],
   "source": [
    "list(f.keys())"
   ]
  },
  {
   "cell_type": "markdown",
   "metadata": {
    "colab_type": "text",
    "id": "nvh677I_X3ZT"
   },
   "source": [
    "OK package works and I can access one file\n",
    "\n",
    "and able to pull some data and table names and labels"
   ]
  },
  {
   "cell_type": "code",
   "execution_count": 0,
   "metadata": {
    "colab": {},
    "colab_type": "code",
    "id": "y1cY2x3QX3ZV"
   },
   "outputs": [],
   "source": [
    "dset =f['analysis']"
   ]
  },
  {
   "cell_type": "code",
   "execution_count": 0,
   "metadata": {
    "colab": {},
    "colab_type": "code",
    "id": "9LCjckkzX3Zd",
    "outputId": "cb10c829-7a76-47e9-cdf1-2aff7659521a"
   },
   "outputs": [
    {
     "name": "stdout",
     "output_type": "stream",
     "text": [
      "['bars_confidence', 'bars_start', 'beats_confidence', 'beats_start', 'sections_confidence', 'sections_start', 'segments_confidence', 'segments_loudness_max', 'segments_loudness_max_time', 'segments_loudness_start', 'segments_pitches', 'segments_start', 'segments_timbre', 'songs', 'tatums_confidence', 'tatums_start']\n"
     ]
    },
    {
     "data": {
      "text/plain": [
       "[<HDF5 dataset \"bars_confidence\": shape (309,), type \"<f8\">,\n",
       " <HDF5 dataset \"bars_start\": shape (309,), type \"<f8\">,\n",
       " <HDF5 dataset \"beats_confidence\": shape (309,), type \"<f8\">,\n",
       " <HDF5 dataset \"beats_start\": shape (309,), type \"<f8\">,\n",
       " <HDF5 dataset \"sections_confidence\": shape (6,), type \"<f8\">,\n",
       " <HDF5 dataset \"sections_start\": shape (6,), type \"<f8\">,\n",
       " <HDF5 dataset \"segments_confidence\": shape (659,), type \"<f8\">,\n",
       " <HDF5 dataset \"segments_loudness_max\": shape (659,), type \"<f8\">,\n",
       " <HDF5 dataset \"segments_loudness_max_time\": shape (659,), type \"<f8\">,\n",
       " <HDF5 dataset \"segments_loudness_start\": shape (659,), type \"<f8\">,\n",
       " <HDF5 dataset \"segments_pitches\": shape (659, 12), type \"<f8\">,\n",
       " <HDF5 dataset \"segments_start\": shape (659,), type \"<f8\">,\n",
       " <HDF5 dataset \"segments_timbre\": shape (659, 12), type \"<f8\">,\n",
       " <HDF5 dataset \"songs\": shape (1,), type \"|V220\">,\n",
       " <HDF5 dataset \"tatums_confidence\": shape (927,), type \"<f8\">,\n",
       " <HDF5 dataset \"tatums_start\": shape (927,), type \"<f8\">]"
      ]
     },
     "execution_count": 8,
     "metadata": {
      "tags": []
     },
     "output_type": "execute_result"
    }
   ],
   "source": [
    "print(list(dset.keys()))\n",
    "list(dset.values())\n"
   ]
  },
  {
   "cell_type": "code",
   "execution_count": 0,
   "metadata": {
    "colab": {},
    "colab_type": "code",
    "id": "d1AbXxvSX3Zm"
   },
   "outputs": [],
   "source": [
    "Ok So Poke around a bit and prove i can do some things"
   ]
  },
  {
   "cell_type": "code",
   "execution_count": 0,
   "metadata": {
    "colab": {},
    "colab_type": "code",
    "id": "8CZw_DpHX3Zr"
   },
   "outputs": [],
   "source": []
  },
  {
   "cell_type": "code",
   "execution_count": 0,
   "metadata": {
    "colab": {},
    "colab_type": "code",
    "id": "XbvkspVgX3Zx"
   },
   "outputs": [],
   "source": [
    "dset =f['analysis/bars_confidence']"
   ]
  },
  {
   "cell_type": "code",
   "execution_count": 0,
   "metadata": {
    "colab": {},
    "colab_type": "code",
    "id": "ng-R9w8WX3Z6",
    "outputId": "8b32f524-6dfe-4647-f6a9-a86754673ec2"
   },
   "outputs": [
    {
     "data": {
      "text/plain": [
       "[<HDF5 group \"/analysis\" (16 members)>,\n",
       " <HDF5 group \"/metadata\" (5 members)>,\n",
       " <HDF5 group \"/musicbrainz\" (3 members)>]"
      ]
     },
     "execution_count": 89,
     "metadata": {
      "tags": []
     },
     "output_type": "execute_result"
    }
   ],
   "source": [
    "list(f.values())"
   ]
  },
  {
   "cell_type": "code",
   "execution_count": 0,
   "metadata": {
    "colab": {},
    "colab_type": "code",
    "id": "EX4rCDeLX3Z_",
    "outputId": "cd6e47b9-d19a-4b23-e815-1fd64ecdbdb8"
   },
   "outputs": [
    {
     "data": {
      "text/plain": [
       "(309,)"
      ]
     },
     "execution_count": 85,
     "metadata": {
      "tags": []
     },
     "output_type": "execute_result"
    }
   ],
   "source": [
    "dset.shape"
   ]
  },
  {
   "cell_type": "code",
   "execution_count": 0,
   "metadata": {
    "colab": {},
    "colab_type": "code",
    "id": "_8gp-012X3aG",
    "outputId": "4df9abe0-6a25-490f-8919-87ac2f187512"
   },
   "outputs": [
    {
     "data": {
      "text/plain": [
       "dtype('<f8')"
      ]
     },
     "execution_count": 71,
     "metadata": {
      "tags": []
     },
     "output_type": "execute_result"
    }
   ],
   "source": [
    "dset.dtype"
   ]
  },
  {
   "cell_type": "code",
   "execution_count": 0,
   "metadata": {
    "colab": {},
    "colab_type": "code",
    "id": "PhHAd1HEX3aL",
    "outputId": "0da95145-4cae-407e-a554-f1b83f44afa2"
   },
   "outputs": [
    {
     "data": {
      "text/plain": [
       "<Attributes of HDF5 object at 965227686120>"
      ]
     },
     "execution_count": 78,
     "metadata": {
      "tags": []
     },
     "output_type": "execute_result"
    }
   ],
   "source": [
    "dset.attrs['CLASS']"
   ]
  },
  {
   "cell_type": "code",
   "execution_count": 0,
   "metadata": {
    "colab": {},
    "colab_type": "code",
    "id": "ZDJMKNZPX3aQ",
    "outputId": "819cff0a-4493-4f05-8092-696871d6a0a4"
   },
   "outputs": [
    {
     "data": {
      "text/plain": [
       "['CLASS', 'EXTDIM', 'TITLE', 'VERSION']"
      ]
     },
     "execution_count": 80,
     "metadata": {
      "tags": []
     },
     "output_type": "execute_result"
    }
   ],
   "source": [
    "list(dset.attrs)\n"
   ]
  },
  {
   "cell_type": "code",
   "execution_count": 0,
   "metadata": {
    "colab": {},
    "colab_type": "code",
    "id": "0bP0sXMKX3aY",
    "outputId": "e6487d68-d941-41b7-f143-1c0d32634bfd"
   },
   "outputs": [
    {
     "data": {
      "text/plain": [
       "b'1.0'"
      ]
     },
     "execution_count": 84,
     "metadata": {
      "tags": []
     },
     "output_type": "execute_result"
    }
   ],
   "source": [
    "dset.attrs['VERSION']"
   ]
  },
  {
   "cell_type": "code",
   "execution_count": 0,
   "metadata": {
    "colab": {},
    "colab_type": "code",
    "id": "1BTn7S0uX3ae",
    "outputId": "3bba5ada-6a40-4384-a694-408f8908f0c2"
   },
   "outputs": [
    {
     "ename": "AttributeError",
     "evalue": "'int' object has no attribute 'encode'",
     "output_type": "error",
     "traceback": [
      "\u001b[1;31m--------------------\u001b[0m",
      "\u001b[1;31mAttributeError\u001b[0mTraceback (most recent call last)",
      "\u001b[1;32m<ipython-input-12-66578725db5f>\u001b[0m in \u001b[0;36m<module>\u001b[1;34m\u001b[0m\n\u001b[1;32m----> 1\u001b[1;33m \u001b[0mdset\u001b[0m\u001b[1;33m[\u001b[0m\u001b[1;36m0\u001b[0m\u001b[1;33m]\u001b[0m\u001b[1;33m\u001b[0m\u001b[1;33m\u001b[0m\u001b[0m\n\u001b[0m",
      "\u001b[1;32mh5py\\_objects.pyx\u001b[0m in \u001b[0;36mh5py._objects.with_phil.wrapper\u001b[1;34m()\u001b[0m\n",
      "\u001b[1;32mh5py\\_objects.pyx\u001b[0m in \u001b[0;36mh5py._objects.with_phil.wrapper\u001b[1;34m()\u001b[0m\n",
      "\u001b[1;32mC:\\ProgramData\\Anaconda3\\lib\\site-packages\\h5py\\_hl\\group.py\u001b[0m in \u001b[0;36m__getitem__\u001b[1;34m(self, name)\u001b[0m\n\u001b[0;32m    262\u001b[0m                 \u001b[1;32mraise\u001b[0m \u001b[0mValueError\u001b[0m\u001b[1;33m(\u001b[0m\u001b[1;34m\"Invalid HDF5 object reference\"\u001b[0m\u001b[1;33m)\u001b[0m\u001b[1;33m\u001b[0m\u001b[1;33m\u001b[0m\u001b[0m\n\u001b[0;32m    263\u001b[0m         \u001b[1;32melse\u001b[0m\u001b[1;33m:\u001b[0m\u001b[1;33m\u001b[0m\u001b[1;33m\u001b[0m\u001b[0m\n\u001b[1;32m--> 264\u001b[1;33m             \u001b[0moid\u001b[0m \u001b[1;33m=\u001b[0m \u001b[0mh5o\u001b[0m\u001b[1;33m.\u001b[0m\u001b[0mopen\u001b[0m\u001b[1;33m(\u001b[0m\u001b[0mself\u001b[0m\u001b[1;33m.\u001b[0m\u001b[0mid\u001b[0m\u001b[1;33m,\u001b[0m \u001b[0mself\u001b[0m\u001b[1;33m.\u001b[0m\u001b[0m_e\u001b[0m\u001b[1;33m(\u001b[0m\u001b[0mname\u001b[0m\u001b[1;33m)\u001b[0m\u001b[1;33m,\u001b[0m \u001b[0mlapl\u001b[0m\u001b[1;33m=\u001b[0m\u001b[0mself\u001b[0m\u001b[1;33m.\u001b[0m\u001b[0m_lapl\u001b[0m\u001b[1;33m)\u001b[0m\u001b[1;33m\u001b[0m\u001b[1;33m\u001b[0m\u001b[0m\n\u001b[0m\u001b[0;32m    265\u001b[0m \u001b[1;33m\u001b[0m\u001b[0m\n\u001b[0;32m    266\u001b[0m         \u001b[0motype\u001b[0m \u001b[1;33m=\u001b[0m \u001b[0mh5i\u001b[0m\u001b[1;33m.\u001b[0m\u001b[0mget_type\u001b[0m\u001b[1;33m(\u001b[0m\u001b[0moid\u001b[0m\u001b[1;33m)\u001b[0m\u001b[1;33m\u001b[0m\u001b[1;33m\u001b[0m\u001b[0m\n",
      "\u001b[1;32mC:\\ProgramData\\Anaconda3\\lib\\site-packages\\h5py\\_hl\\base.py\u001b[0m in \u001b[0;36m_e\u001b[1;34m(self, name, lcpl)\u001b[0m\n\u001b[0;32m    135\u001b[0m         \u001b[1;32melse\u001b[0m\u001b[1;33m:\u001b[0m\u001b[1;33m\u001b[0m\u001b[1;33m\u001b[0m\u001b[0m\n\u001b[0;32m    136\u001b[0m             \u001b[1;32mtry\u001b[0m\u001b[1;33m:\u001b[0m\u001b[1;33m\u001b[0m\u001b[1;33m\u001b[0m\u001b[0m\n\u001b[1;32m--> 137\u001b[1;33m                 \u001b[0mname\u001b[0m \u001b[1;33m=\u001b[0m \u001b[0mname\u001b[0m\u001b[1;33m.\u001b[0m\u001b[0mencode\u001b[0m\u001b[1;33m(\u001b[0m\u001b[1;34m'ascii'\u001b[0m\u001b[1;33m)\u001b[0m\u001b[1;33m\u001b[0m\u001b[1;33m\u001b[0m\u001b[0m\n\u001b[0m\u001b[0;32m    138\u001b[0m                 \u001b[0mcoding\u001b[0m \u001b[1;33m=\u001b[0m \u001b[0mh5t\u001b[0m\u001b[1;33m.\u001b[0m\u001b[0mCSET_ASCII\u001b[0m\u001b[1;33m\u001b[0m\u001b[1;33m\u001b[0m\u001b[0m\n\u001b[0;32m    139\u001b[0m             \u001b[1;32mexcept\u001b[0m \u001b[0mUnicodeEncodeError\u001b[0m\u001b[1;33m:\u001b[0m\u001b[1;33m\u001b[0m\u001b[1;33m\u001b[0m\u001b[0m\n",
      "\u001b[1;31mAttributeError\u001b[0m: 'int' object has no attribute 'encode'"
     ]
    }
   ],
   "source": [
    "dset[0]"
   ]
  },
  {
   "cell_type": "markdown",
   "metadata": {
    "colab_type": "text",
    "id": "ZTreLz_FX3am"
   },
   "source": [
    "Docs » HDF5 for Python  http://docs.h5py.org/en/stable/\n",
    "FAQ  http://docs.h5py.org/en/latest/faq.html\n",
    "\n",
    "\n",
    "time for some reading"
   ]
  },
  {
   "cell_type": "code",
   "execution_count": 0,
   "metadata": {
    "colab": {},
    "colab_type": "code",
    "id": "mrWpgoM8X3ao"
   },
   "outputs": [],
   "source": [
    "The github of code   https://github.com/tbertinmahieux/MSongsDB\n",
    "    \n",
    "unfortunately most of it is in python 2.x  so needed to do some updating to get it working \n",
    "\n"
   ]
  },
  {
   "cell_type": "code",
   "execution_count": 0,
   "metadata": {
    "colab": {},
    "colab_type": "code",
    "id": "FXUvdimlX3as"
   },
   "outputs": [],
   "source": []
  },
  {
   "cell_type": "code",
   "execution_count": 0,
   "metadata": {
    "colab": {},
    "colab_type": "code",
    "id": "gQbJrYIKX3aw"
   },
   "outputs": [],
   "source": [
    "import tables\n",
    "\n",
    "\n",
    "def open_h5_file_read(h5filename):\n",
    "    \"\"\"\n",
    "    Open an existing H5 in read mode.\n",
    "    Same function as in hdf5_utils, here so we avoid one import\n",
    "    \"\"\"\n",
    "    return tables.open_file(h5filename, mode='r')\n",
    "\n",
    "h5 = open_h5_file_read('C:/00/CapDaT/millionsongsubset_full/MillionSongSubset/data/A/C/A/TRACABS128E0786B0B.h5')\n"
   ]
  },
  {
   "cell_type": "code",
   "execution_count": 0,
   "metadata": {
    "colab": {},
    "colab_type": "code",
    "id": "S1cWH-y5X3a6",
    "outputId": "e07c3407-2ee1-4d31-b661-ad6ec04fa805"
   },
   "outputs": [
    {
     "data": {
      "text/plain": [
       "1"
      ]
     },
     "execution_count": 3,
     "metadata": {
      "tags": []
     },
     "output_type": "execute_result"
    }
   ],
   "source": [
    "h5.root.metadata.songs.nrows"
   ]
  },
  {
   "cell_type": "code",
   "execution_count": 0,
   "metadata": {
    "colab": {},
    "colab_type": "code",
    "id": "9LSPHZitX3bB",
    "outputId": "55994351-e922-4abc-e378-eec3af7e690d"
   },
   "outputs": [
    {
     "data": {
      "text/plain": [
       "File(filename=C:/00/CapDaT/millionsongsubset_full/MillionSongSubset/data/A/C/A/TRACABS128E0786B0B.h5, title='H5 Song File', mode='r', root_uep='/', filters=Filters(complevel=1, complib='zlib', shuffle=True, bitshuffle=False, fletcher32=False, least_significant_digit=None))\n",
       "/ (RootGroup) 'H5 Song File'\n",
       "/analysis (Group) 'Echo Nest analysis of the song'\n",
       "/analysis/bars_confidence (EArray(309,), shuffle, zlib(1)) 'array of confidence of bars'\n",
       "  atom := Float64Atom(shape=(), dflt=0.0)\n",
       "  maindim := 0\n",
       "  flavor := 'numpy'\n",
       "  byteorder := 'little'\n",
       "  chunkshape := (1024,)\n",
       "/analysis/bars_start (EArray(309,), shuffle, zlib(1)) 'array of start times of bars'\n",
       "  atom := Float64Atom(shape=(), dflt=0.0)\n",
       "  maindim := 0\n",
       "  flavor := 'numpy'\n",
       "  byteorder := 'little'\n",
       "  chunkshape := (1024,)\n",
       "/analysis/beats_confidence (EArray(309,), shuffle, zlib(1)) 'array of confidence of sections'\n",
       "  atom := Float64Atom(shape=(), dflt=0.0)\n",
       "  maindim := 0\n",
       "  flavor := 'numpy'\n",
       "  byteorder := 'little'\n",
       "  chunkshape := (1024,)\n",
       "/analysis/beats_start (EArray(309,), shuffle, zlib(1)) 'array of start times of beats'\n",
       "  atom := Float64Atom(shape=(), dflt=0.0)\n",
       "  maindim := 0\n",
       "  flavor := 'numpy'\n",
       "  byteorder := 'little'\n",
       "  chunkshape := (1024,)\n",
       "/analysis/sections_confidence (EArray(6,), shuffle, zlib(1)) 'array of confidence of sections'\n",
       "  atom := Float64Atom(shape=(), dflt=0.0)\n",
       "  maindim := 0\n",
       "  flavor := 'numpy'\n",
       "  byteorder := 'little'\n",
       "  chunkshape := (1024,)\n",
       "/analysis/sections_start (EArray(6,), shuffle, zlib(1)) 'array of start times of sections'\n",
       "  atom := Float64Atom(shape=(), dflt=0.0)\n",
       "  maindim := 0\n",
       "  flavor := 'numpy'\n",
       "  byteorder := 'little'\n",
       "  chunkshape := (1024,)\n",
       "/analysis/segments_confidence (EArray(659,), shuffle, zlib(1)) 'array of confidence of segments'\n",
       "  atom := Float64Atom(shape=(), dflt=0.0)\n",
       "  maindim := 0\n",
       "  flavor := 'numpy'\n",
       "  byteorder := 'little'\n",
       "  chunkshape := (1024,)\n",
       "/analysis/segments_loudness_max (EArray(659,), shuffle, zlib(1)) 'array of max loudness of segments'\n",
       "  atom := Float64Atom(shape=(), dflt=0.0)\n",
       "  maindim := 0\n",
       "  flavor := 'numpy'\n",
       "  byteorder := 'little'\n",
       "  chunkshape := (1024,)\n",
       "/analysis/segments_loudness_max_time (EArray(659,), shuffle, zlib(1)) 'array of max loudness time of segments'\n",
       "  atom := Float64Atom(shape=(), dflt=0.0)\n",
       "  maindim := 0\n",
       "  flavor := 'numpy'\n",
       "  byteorder := 'little'\n",
       "  chunkshape := (1024,)\n",
       "/analysis/segments_loudness_start (EArray(659,), shuffle, zlib(1)) 'array of loudness of segments at start time'\n",
       "  atom := Float64Atom(shape=(), dflt=0.0)\n",
       "  maindim := 0\n",
       "  flavor := 'numpy'\n",
       "  byteorder := 'little'\n",
       "  chunkshape := (1024,)\n",
       "/analysis/segments_pitches (EArray(659, 12), shuffle, zlib(1)) 'array of pitches of segments (chromas)'\n",
       "  atom := Float64Atom(shape=(), dflt=0.0)\n",
       "  maindim := 0\n",
       "  flavor := 'numpy'\n",
       "  byteorder := 'little'\n",
       "  chunkshape := (85, 12)\n",
       "/analysis/segments_start (EArray(659,), shuffle, zlib(1)) 'array of start times of segments'\n",
       "  atom := Float64Atom(shape=(), dflt=0.0)\n",
       "  maindim := 0\n",
       "  flavor := 'numpy'\n",
       "  byteorder := 'little'\n",
       "  chunkshape := (1024,)\n",
       "/analysis/segments_timbre (EArray(659, 12), shuffle, zlib(1)) 'array of timbre of segments (MFCC-like)'\n",
       "  atom := Float64Atom(shape=(), dflt=0.0)\n",
       "  maindim := 0\n",
       "  flavor := 'numpy'\n",
       "  byteorder := 'little'\n",
       "  chunkshape := (85, 12)\n",
       "/analysis/songs (Table(1,), shuffle, zlib(1)) 'table of Echo Nest analysis for one song'\n",
       "  description := {\n",
       "  \"analysis_sample_rate\": Int32Col(shape=(), dflt=0, pos=0),\n",
       "  \"audio_md5\": StringCol(itemsize=32, shape=(), dflt=b'', pos=1),\n",
       "  \"danceability\": Float64Col(shape=(), dflt=0.0, pos=2),\n",
       "  \"duration\": Float64Col(shape=(), dflt=0.0, pos=3),\n",
       "  \"end_of_fade_in\": Float64Col(shape=(), dflt=0.0, pos=4),\n",
       "  \"energy\": Float64Col(shape=(), dflt=0.0, pos=5),\n",
       "  \"idx_bars_confidence\": Int32Col(shape=(), dflt=0, pos=6),\n",
       "  \"idx_bars_start\": Int32Col(shape=(), dflt=0, pos=7),\n",
       "  \"idx_beats_confidence\": Int32Col(shape=(), dflt=0, pos=8),\n",
       "  \"idx_beats_start\": Int32Col(shape=(), dflt=0, pos=9),\n",
       "  \"idx_sections_confidence\": Int32Col(shape=(), dflt=0, pos=10),\n",
       "  \"idx_sections_start\": Int32Col(shape=(), dflt=0, pos=11),\n",
       "  \"idx_segments_confidence\": Int32Col(shape=(), dflt=0, pos=12),\n",
       "  \"idx_segments_loudness_max\": Int32Col(shape=(), dflt=0, pos=13),\n",
       "  \"idx_segments_loudness_max_time\": Int32Col(shape=(), dflt=0, pos=14),\n",
       "  \"idx_segments_loudness_start\": Int32Col(shape=(), dflt=0, pos=15),\n",
       "  \"idx_segments_pitches\": Int32Col(shape=(), dflt=0, pos=16),\n",
       "  \"idx_segments_start\": Int32Col(shape=(), dflt=0, pos=17),\n",
       "  \"idx_segments_timbre\": Int32Col(shape=(), dflt=0, pos=18),\n",
       "  \"idx_tatums_confidence\": Int32Col(shape=(), dflt=0, pos=19),\n",
       "  \"idx_tatums_start\": Int32Col(shape=(), dflt=0, pos=20),\n",
       "  \"key\": Int32Col(shape=(), dflt=0, pos=21),\n",
       "  \"key_confidence\": Float64Col(shape=(), dflt=0.0, pos=22),\n",
       "  \"loudness\": Float64Col(shape=(), dflt=0.0, pos=23),\n",
       "  \"mode\": Int32Col(shape=(), dflt=0, pos=24),\n",
       "  \"mode_confidence\": Float64Col(shape=(), dflt=0.0, pos=25),\n",
       "  \"start_of_fade_out\": Float64Col(shape=(), dflt=0.0, pos=26),\n",
       "  \"tempo\": Float64Col(shape=(), dflt=0.0, pos=27),\n",
       "  \"time_signature\": Int32Col(shape=(), dflt=0, pos=28),\n",
       "  \"time_signature_confidence\": Float64Col(shape=(), dflt=0.0, pos=29),\n",
       "  \"track_id\": StringCol(itemsize=32, shape=(), dflt=b'', pos=30)}\n",
       "  byteorder := 'little'\n",
       "  chunkshape := (37,)\n",
       "/analysis/tatums_confidence (EArray(927,), shuffle, zlib(1)) 'array of confidence of tatums'\n",
       "  atom := Float64Atom(shape=(), dflt=0.0)\n",
       "  maindim := 0\n",
       "  flavor := 'numpy'\n",
       "  byteorder := 'little'\n",
       "  chunkshape := (1024,)\n",
       "/analysis/tatums_start (EArray(927,), shuffle, zlib(1)) 'array of start times of tatums'\n",
       "  atom := Float64Atom(shape=(), dflt=0.0)\n",
       "  maindim := 0\n",
       "  flavor := 'numpy'\n",
       "  byteorder := 'little'\n",
       "  chunkshape := (1024,)\n",
       "/metadata (Group) 'metadata about the song'\n",
       "/metadata/artist_terms (EArray(31,), shuffle, zlib(1)) 'array of terms (Echo Nest tags) for an artist'\n",
       "  atom := StringAtom(itemsize=256, shape=(), dflt=b'')\n",
       "  maindim := 0\n",
       "  flavor := 'numpy'\n",
       "  byteorder := 'irrelevant'\n",
       "  chunkshape := (32,)\n",
       "/metadata/artist_terms_freq (EArray(31,), shuffle, zlib(1)) 'array of term (Echo Nest tags) frequencies for an artist'\n",
       "  atom := Float64Atom(shape=(), dflt=0.0)\n",
       "  maindim := 0\n",
       "  flavor := 'numpy'\n",
       "  byteorder := 'little'\n",
       "  chunkshape := (1024,)\n",
       "/metadata/artist_terms_weight (EArray(31,), shuffle, zlib(1)) 'array of term (Echo Nest tags) weights for an artist'\n",
       "  atom := Float64Atom(shape=(), dflt=0.0)\n",
       "  maindim := 0\n",
       "  flavor := 'numpy'\n",
       "  byteorder := 'little'\n",
       "  chunkshape := (1024,)\n",
       "/metadata/similar_artists (EArray(100,), shuffle, zlib(1)) 'array of similar artists Echo Nest id'\n",
       "  atom := StringAtom(itemsize=20, shape=(), dflt=b'')\n",
       "  maindim := 0\n",
       "  flavor := 'numpy'\n",
       "  byteorder := 'irrelevant'\n",
       "  chunkshape := (409,)\n",
       "/metadata/songs (Table(1,), shuffle, zlib(1)) 'table of metadata for one song'\n",
       "  description := {\n",
       "  \"analyzer_version\": StringCol(itemsize=32, shape=(), dflt=b'', pos=0),\n",
       "  \"artist_7digitalid\": Int32Col(shape=(), dflt=0, pos=1),\n",
       "  \"artist_familiarity\": Float64Col(shape=(), dflt=0.0, pos=2),\n",
       "  \"artist_hotttnesss\": Float64Col(shape=(), dflt=0.0, pos=3),\n",
       "  \"artist_id\": StringCol(itemsize=32, shape=(), dflt=b'', pos=4),\n",
       "  \"artist_latitude\": Float64Col(shape=(), dflt=0.0, pos=5),\n",
       "  \"artist_location\": StringCol(itemsize=1024, shape=(), dflt=b'', pos=6),\n",
       "  \"artist_longitude\": Float64Col(shape=(), dflt=0.0, pos=7),\n",
       "  \"artist_mbid\": StringCol(itemsize=40, shape=(), dflt=b'', pos=8),\n",
       "  \"artist_name\": StringCol(itemsize=1024, shape=(), dflt=b'', pos=9),\n",
       "  \"artist_playmeid\": Int32Col(shape=(), dflt=0, pos=10),\n",
       "  \"genre\": StringCol(itemsize=1024, shape=(), dflt=b'', pos=11),\n",
       "  \"idx_artist_terms\": Int32Col(shape=(), dflt=0, pos=12),\n",
       "  \"idx_similar_artists\": Int32Col(shape=(), dflt=0, pos=13),\n",
       "  \"release\": StringCol(itemsize=1024, shape=(), dflt=b'', pos=14),\n",
       "  \"release_7digitalid\": Int32Col(shape=(), dflt=0, pos=15),\n",
       "  \"song_hotttnesss\": Float64Col(shape=(), dflt=0.0, pos=16),\n",
       "  \"song_id\": StringCol(itemsize=32, shape=(), dflt=b'', pos=17),\n",
       "  \"title\": StringCol(itemsize=1024, shape=(), dflt=b'', pos=18),\n",
       "  \"track_7digitalid\": Int32Col(shape=(), dflt=0, pos=19)}\n",
       "  byteorder := 'little'\n",
       "  chunkshape := (3,)\n",
       "/musicbrainz (Group) 'data about the song coming from MusicBrainz'\n",
       "/musicbrainz/artist_mbtags (EArray(0,), shuffle, zlib(1)) 'array of tags from MusicBrainz for an artist'\n",
       "  atom := StringAtom(itemsize=256, shape=(), dflt=b'')\n",
       "  maindim := 0\n",
       "  flavor := 'numpy'\n",
       "  byteorder := 'irrelevant'\n",
       "  chunkshape := (32,)\n",
       "/musicbrainz/artist_mbtags_count (EArray(0,), shuffle, zlib(1)) 'array of tag counts from MusicBrainz for an artist'\n",
       "  atom := Int32Atom(shape=(), dflt=0)\n",
       "  maindim := 0\n",
       "  flavor := 'numpy'\n",
       "  byteorder := 'little'\n",
       "  chunkshape := (2048,)\n",
       "/musicbrainz/songs (Table(1,), shuffle, zlib(1)) 'table of data coming from MusicBrainz'\n",
       "  description := {\n",
       "  \"idx_artist_mbtags\": Int32Col(shape=(), dflt=0, pos=0),\n",
       "  \"year\": Int32Col(shape=(), dflt=0, pos=1)}\n",
       "  byteorder := 'little'\n",
       "  chunkshape := (1024,)"
      ]
     },
     "execution_count": 4,
     "metadata": {
      "tags": []
     },
     "output_type": "execute_result"
    }
   ],
   "source": [
    "h5"
   ]
  },
  {
   "cell_type": "code",
   "execution_count": 0,
   "metadata": {
    "colab": {},
    "colab_type": "code",
    "id": "yVfE5rhNX3bK",
    "outputId": "53d9772b-4815-4e6d-8cfa-89a78c49ab07",
    "scrolled": true
   },
   "outputs": [
    {
     "name": "stdout",
     "output_type": "stream",
     "text": [
      "C:/00/CapDaT/millionsongsubset_full/MillionSongSubset/data/A/C/A/TRACABS128E0786B0B.h5 (File) 'H5 Song File'\n",
      "Last modif.: 'Sun Dec 19 14:28:09 2010'\n",
      "Object Tree: \n",
      "/ (RootGroup) 'H5 Song File'\n",
      "/analysis (Group) 'Echo Nest analysis of the song'\n",
      "/analysis/bars_confidence (EArray(309,), shuffle, zlib(1)) 'array of confidence of bars'\n",
      "/analysis/bars_start (EArray(309,), shuffle, zlib(1)) 'array of start times of bars'\n",
      "/analysis/beats_confidence (EArray(309,), shuffle, zlib(1)) 'array of confidence of sections'\n",
      "/analysis/beats_start (EArray(309,), shuffle, zlib(1)) 'array of start times of beats'\n",
      "/analysis/sections_confidence (EArray(6,), shuffle, zlib(1)) 'array of confidence of sections'\n",
      "/analysis/sections_start (EArray(6,), shuffle, zlib(1)) 'array of start times of sections'\n",
      "/analysis/segments_confidence (EArray(659,), shuffle, zlib(1)) 'array of confidence of segments'\n",
      "/analysis/segments_loudness_max (EArray(659,), shuffle, zlib(1)) 'array of max loudness of segments'\n",
      "/analysis/segments_loudness_max_time (EArray(659,), shuffle, zlib(1)) 'array of max loudness time of segments'\n",
      "/analysis/segments_loudness_start (EArray(659,), shuffle, zlib(1)) 'array of loudness of segments at start time'\n",
      "/analysis/segments_pitches (EArray(659, 12), shuffle, zlib(1)) 'array of pitches of segments (chromas)'\n",
      "/analysis/segments_start (EArray(659,), shuffle, zlib(1)) 'array of start times of segments'\n",
      "/analysis/segments_timbre (EArray(659, 12), shuffle, zlib(1)) 'array of timbre of segments (MFCC-like)'\n",
      "/analysis/songs (Table(1,), shuffle, zlib(1)) 'table of Echo Nest analysis for one song'\n",
      "/analysis/tatums_confidence (EArray(927,), shuffle, zlib(1)) 'array of confidence of tatums'\n",
      "/analysis/tatums_start (EArray(927,), shuffle, zlib(1)) 'array of start times of tatums'\n",
      "/metadata (Group) 'metadata about the song'\n",
      "/metadata/artist_terms (EArray(31,), shuffle, zlib(1)) 'array of terms (Echo Nest tags) for an artist'\n",
      "/metadata/artist_terms_freq (EArray(31,), shuffle, zlib(1)) 'array of term (Echo Nest tags) frequencies for an artist'\n",
      "/metadata/artist_terms_weight (EArray(31,), shuffle, zlib(1)) 'array of term (Echo Nest tags) weights for an artist'\n",
      "/metadata/similar_artists (EArray(100,), shuffle, zlib(1)) 'array of similar artists Echo Nest id'\n",
      "/metadata/songs (Table(1,), shuffle, zlib(1)) 'table of metadata for one song'\n",
      "/musicbrainz (Group) 'data about the song coming from MusicBrainz'\n",
      "/musicbrainz/artist_mbtags (EArray(0,), shuffle, zlib(1)) 'array of tags from MusicBrainz for an artist'\n",
      "/musicbrainz/artist_mbtags_count (EArray(0,), shuffle, zlib(1)) 'array of tag counts from MusicBrainz for an artist'\n",
      "/musicbrainz/songs (Table(1,), shuffle, zlib(1)) 'table of data coming from MusicBrainz'\n",
      "\n"
     ]
    }
   ],
   "source": [
    "print(h5)"
   ]
  },
  {
   "cell_type": "markdown",
   "metadata": {
    "colab_type": "text",
    "id": "gV-BNgbmX3bR"
   },
   "source": [
    "Whats a tatam?\n",
    "\n",
    "https://pdfs.semanticscholar.org/23bc/0cadb746ebdeb2a75aafde48d0f51ac2bce4.pdf\n",
    "    "
   ]
  },
  {
   "cell_type": "code",
   "execution_count": 0,
   "metadata": {
    "colab": {},
    "colab_type": "code",
    "id": "oFlw6pXtX3bT"
   },
   "outputs": [],
   "source": []
  },
  {
   "cell_type": "code",
   "execution_count": 0,
   "metadata": {
    "colab": {},
    "colab_type": "code",
    "id": "wpsf8oDNca55"
   },
   "outputs": [],
   "source": []
  },
  {
   "cell_type": "markdown",
   "metadata": {
    "colab_type": "text",
    "id": "NhGuzUe1cclp"
   },
   "source": [
    "\n",
    "\n",
    "```\n",
    "# output of values from one song file\n",
    "analysis_sample_rate: 22050\n",
    "artist_7digitalid: 1998\n",
    "artist_familiarity: 0.6306300375898077\n",
    "artist_hotttnesss: 0.4174996449709784\n",
    "artist_id: b'ARMJAGH1187FB546F3'\n",
    "artist_latitude: 35.14968\n",
    "artist_location: b'Memphis, TN'\n",
    "artist_longitude: -90.04892\n",
    "artist_mbid: b'1c78ab62-db33-4433-8d0b-7c8dcf1849c2'\n",
    "artist_mbtags: shape = (1,)\n",
    "artist_mbtags_count: shape = (1,)\n",
    "artist_name: b'The Box Tops'\n",
    "artist_playmeid: 22066\n",
    "artist_terms: shape = (38,)\n",
    "artist_terms_freq: shape = (38,)\n",
    "artist_terms_weight: shape = (38,)\n",
    "audio_md5: b'bb9771eeef3d5b204a3c55e690f52a91'\n",
    "bars_confidence: shape = (73,)\n",
    "bars_start: shape = (73,)\n",
    "beats_confidence: shape = (296,)\n",
    "beats_start: shape = (296,)\n",
    "danceability: 0.0\n",
    "duration: 148.03546\n",
    "end_of_fade_in: 0.148\n",
    "energy: 0.0\n",
    "key: 6\n",
    "key_confidence: 0.169\n",
    "loudness: -9.843\n",
    "mode: 0\n",
    "mode_confidence: 0.43\n",
    "release: b'Dimensions'\n",
    "release_7digitalid: 300822\n",
    "sections_confidence: shape = (9,)\n",
    "sections_start: shape = (9,)\n",
    "segments_confidence: shape = (550,)\n",
    "segments_loudness_max: shape = (550,)\n",
    "segments_loudness_max_time: shape = (550,)\n",
    "segments_loudness_start: shape = (550,)\n",
    "segments_pitches: shape = (550, 12)\n",
    "segments_start: shape = (550,)\n",
    "segments_timbre: shape = (550, 12)\n",
    "similar_artists: shape = (100,)\n",
    "song_hotttnesss: nan\n",
    "song_id: b'SOCIWDW12A8C13D406'\n",
    "start_of_fade_out: 137.915\n",
    "tatums_confidence: shape = (591,)\n",
    "tatums_start: shape = (591,)\n",
    "tempo: 121.274\n",
    "time_signature: 4\n",
    "time_signature_confidence: 0.384\n",
    "title: b'Soul Deep'\n",
    "track_7digitalid: 3400270\n",
    "track_id: b'TRAAABD128F429CF47'\n",
    "year: 1969\n",
    "DONE, showed song 0 / 0 in file: C:\\00\\CapDaT\\millionsongsubset_full\\MillionSongSubset\\data\\A\\A\\A\\TRAAABD128F429CF47.h5\n",
    "\n",
    "\n",
    "```\n",
    "\n"
   ]
  },
  {
   "cell_type": "code",
   "execution_count": 0,
   "metadata": {
    "colab": {},
    "colab_type": "code",
    "id": "IP12WM8LX3bX"
   },
   "outputs": [],
   "source": [
    "Out"
   ]
  },
  {
   "cell_type": "code",
   "execution_count": 0,
   "metadata": {
    "colab": {},
    "colab_type": "code",
    "id": "ypNeVo9vX3bd"
   },
   "outputs": [],
   "source": []
  },
  {
   "cell_type": "code",
   "execution_count": 0,
   "metadata": {
    "colab": {},
    "colab_type": "code",
    "id": "Sr2pv4S-X3bj"
   },
   "outputs": [],
   "source": []
  }
 ],
 "metadata": {
  "colab": {
   "name": "Capstone Notebook.ipynb",
   "provenance": []
  },
  "kernelspec": {
   "display_name": "Python 3",
   "language": "python",
   "name": "python3"
  },
  "language_info": {
   "codemirror_mode": {
    "name": "ipython",
    "version": 3
   },
   "file_extension": ".py",
   "mimetype": "text/x-python",
   "name": "python",
   "nbconvert_exporter": "python",
   "pygments_lexer": "ipython3",
   "version": "3.7.4"
  }
 },
 "nbformat": 4,
 "nbformat_minor": 1
}
